{
 "cells": [
  {
   "cell_type": "code",
   "execution_count": 1,
   "id": "6a59c08d-fb23-4fe4-a258-c65c5d7d1061",
   "metadata": {},
   "outputs": [
    {
     "name": "stdout",
     "output_type": "stream",
     "text": [
      "running warfarine fixed\n",
      "[('total_fraction_correct', np.float64(0.611794500723589)), ('average_fraction_incorrect', np.float64(0.37682553569425986)), ('fraction_egregious', 0.0)]\n",
      "[('total_fraction_correct', np.float64(0.611794500723589)), ('average_fraction_incorrect', np.float64(0.390027215556051)), ('fraction_egregious', 0.0)]\n",
      "[('total_fraction_correct', np.float64(0.611794500723589)), ('average_fraction_incorrect', np.float64(0.3897232510683487)), ('fraction_egregious', 0.0)]\n",
      "[('total_fraction_correct', np.float64(0.611794500723589)), ('average_fraction_incorrect', np.float64(0.3907957936719711)), ('fraction_egregious', 0.0)]\n",
      "[('total_fraction_correct', np.float64(0.611794500723589)), ('average_fraction_incorrect', np.float64(0.3889975287360373)), ('fraction_egregious', 0.0)]\n"
     ]
    }
   ],
   "source": [
    "!python run.py --model fixed\n"
   ]
  },
  {
   "cell_type": "code",
   "execution_count": 2,
   "id": "24f5a298-c829-478f-8bf2-ea27eda064e5",
   "metadata": {},
   "outputs": [
    {
     "name": "stdout",
     "output_type": "stream",
     "text": [
      "running warfarine clinical\n",
      "[('total_fraction_correct', np.float64(0.6398335745296672)), ('average_fraction_incorrect', np.float64(0.359697173159073)), ('fraction_egregious', 0.0012662807525325615)]\n",
      "[('total_fraction_correct', np.float64(0.6398335745296672)), ('average_fraction_incorrect', np.float64(0.35468307324841997)), ('fraction_egregious', 0.0012662807525325615)]\n",
      "[('total_fraction_correct', np.float64(0.6398335745296672)), ('average_fraction_incorrect', np.float64(0.3639516664885279)), ('fraction_egregious', 0.0012662807525325615)]\n",
      "[('total_fraction_correct', np.float64(0.6398335745296672)), ('average_fraction_incorrect', np.float64(0.3574600479598166)), ('fraction_egregious', 0.0012662807525325615)]\n",
      "[('total_fraction_correct', np.float64(0.6398335745296672)), ('average_fraction_incorrect', np.float64(0.3621553959849099)), ('fraction_egregious', 0.0012662807525325615)]\n"
     ]
    }
   ],
   "source": [
    "!python run.py --model clinical\n"
   ]
  },
  {
   "cell_type": "code",
   "execution_count": 3,
   "id": "7e6f86fb-04d6-42dc-a772-b9154dba9a0d",
   "metadata": {},
   "outputs": [
    {
     "name": "stdout",
     "output_type": "stream",
     "text": [
      "running warfarine linucb\n",
      "[('total_fraction_correct', np.float64(0.6448986975397974)), ('average_fraction_incorrect', np.float64(0.37649645006366855)), ('fraction_egregious', 0.003256150506512301)]\n",
      "[('total_fraction_correct', np.float64(0.6568379160636758)), ('average_fraction_incorrect', np.float64(0.3449008763263217)), ('fraction_egregious', 0.000361794500723589)]\n",
      "[('total_fraction_correct', np.float64(0.6591895803183792)), ('average_fraction_incorrect', np.float64(0.34853292942227554)), ('fraction_egregious', 0.000723589001447178)]\n",
      "[('total_fraction_correct', np.float64(0.6588277858176556)), ('average_fraction_incorrect', np.float64(0.3494301606520298)), ('fraction_egregious', 0.000361794500723589)]\n",
      "[('total_fraction_correct', np.float64(0.658465991316932)), ('average_fraction_incorrect', np.float64(0.34356188834261997)), ('fraction_egregious', 0.000361794500723589)]\n"
     ]
    }
   ],
   "source": [
    "!python run.py --model linucb"
   ]
  },
  {
   "cell_type": "code",
   "execution_count": 4,
   "id": "2c8da3ce-e92a-4a10-90ea-464ed57911a9",
   "metadata": {},
   "outputs": [
    {
     "name": "stdout",
     "output_type": "stream",
     "text": [
      "running warfarine egreedy\n",
      "[('total_fraction_correct', np.float64(0.6445369030390738)), ('average_fraction_incorrect', np.float64(0.3698549972580468)), ('fraction_egregious', 0.0009044862518089725)]\n",
      "[('total_fraction_correct', np.float64(0.651410998552822)), ('average_fraction_incorrect', np.float64(0.35307474765272073)), ('fraction_egregious', 0.000361794500723589)]\n",
      "[('total_fraction_correct', np.float64(0.6543053545586107)), ('average_fraction_incorrect', np.float64(0.35512948133057015)), ('fraction_egregious', 0.000361794500723589)]\n",
      "[('total_fraction_correct', np.float64(0.6515918958031838)), ('average_fraction_incorrect', np.float64(0.33903477082206035)), ('fraction_egregious', 0.000361794500723589)]\n",
      "[('total_fraction_correct', np.float64(0.6546671490593343)), ('average_fraction_incorrect', np.float64(0.3504652076808317)), ('fraction_egregious', 0.000361794500723589)]\n"
     ]
    }
   ],
   "source": [
    "!python run.py --model egreedy"
   ]
  },
  {
   "cell_type": "code",
   "execution_count": 5,
   "id": "49af91ea-258f-483d-8bed-ef89c75f6a10",
   "metadata": {},
   "outputs": [
    {
     "name": "stdout",
     "output_type": "stream",
     "text": [
      "running warfarine thompson\n",
      "[('total_fraction_correct', np.float64(0.6418234442836469)), ('average_fraction_incorrect', np.float64(0.3667563164475247)), ('fraction_egregious', 0.0005426917510853835)]\n",
      "[('total_fraction_correct', np.float64(0.6486975397973951)), ('average_fraction_incorrect', np.float64(0.3551088197260268)), ('fraction_egregious', 0.000361794500723589)]\n",
      "[('total_fraction_correct', np.float64(0.6532199710564399)), ('average_fraction_incorrect', np.float64(0.34584427855417504)), ('fraction_egregious', 0.000361794500723589)]\n",
      "[('total_fraction_correct', np.float64(0.6528581765557163)), ('average_fraction_incorrect', np.float64(0.3410556890140772)), ('fraction_egregious', 0.000361794500723589)]\n",
      "[('total_fraction_correct', np.float64(0.6530390738060782)), ('average_fraction_incorrect', np.float64(0.3396489217469966)), ('fraction_egregious', 0.000361794500723589)]\n"
     ]
    }
   ],
   "source": [
    "!python run.py --model thompson"
   ]
  },
  {
   "cell_type": "code",
   "execution_count": null,
   "id": "cd492e0c-f26e-45ac-8230-33735db8775b",
   "metadata": {},
   "outputs": [],
   "source": []
  }
 ],
 "metadata": {
  "kernelspec": {
   "display_name": "Python 3 (ipykernel)",
   "language": "python",
   "name": "python3"
  },
  "language_info": {
   "codemirror_mode": {
    "name": "ipython",
    "version": 3
   },
   "file_extension": ".py",
   "mimetype": "text/x-python",
   "name": "python",
   "nbconvert_exporter": "python",
   "pygments_lexer": "ipython3",
   "version": "3.10.13"
  }
 },
 "nbformat": 4,
 "nbformat_minor": 5
}
