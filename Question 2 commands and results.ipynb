{
 "cells": [
  {
   "cell_type": "code",
   "execution_count": 2,
   "id": "833fe8f1-ea69-4bd3-9eb2-28b09d728c45",
   "metadata": {},
   "outputs": [
    {
     "name": "stdout",
     "output_type": "stream",
     "text": [
      "Running LinUCB bandit with K=1000 and U=none with seeds [0, 1, 2, 3, 4]\n",
      "Total Fraction Correct: Mean: 0.569, Std: 0.077\n",
      "###########################################\n"
     ]
    }
   ],
   "source": [
    "!python run.py -t simulator -s 0 1 2 3 4 -u none"
   ]
  },
  {
   "cell_type": "code",
   "execution_count": 4,
   "id": "68e33a0a-3d79-45b9-894a-44a9a9e5c888",
   "metadata": {},
   "outputs": [
    {
     "name": "stdout",
     "output_type": "stream",
     "text": [
      "Running LinUCB bandit with K=500 and U=popular with seeds [0, 1, 2, 3, 4]\n",
      "Total Fraction Correct: Mean: 0.444, Std: 0.093\n",
      "###########################################\n",
      "Running LinUCB bandit with K=1000 and U=popular with seeds [0, 1, 2, 3, 4]\n",
      "Total Fraction Correct: Mean: 0.491, Std: 0.089\n",
      "###########################################\n",
      "Running LinUCB bandit with K=2500 and U=popular with seeds [0, 1, 2, 3, 4]\n",
      "Total Fraction Correct: Mean: 0.534, Std: 0.083\n",
      "###########################################\n",
      "Running LinUCB bandit with K=5000 and U=popular with seeds [0, 1, 2, 3, 4]\n",
      "Total Fraction Correct: Mean: 0.554, Std: 0.079\n",
      "###########################################\n"
     ]
    }
   ],
   "source": [
    "!python run.py -t simulator -s 0 1 2 3 4 -u popular -k 500 1000 2500 5000"
   ]
  },
  {
   "cell_type": "code",
   "execution_count": 6,
   "id": "444adf82-6500-427f-9a5b-802cae4ba5b1",
   "metadata": {},
   "outputs": [
    {
     "name": "stdout",
     "output_type": "stream",
     "text": [
      "Running LinUCB bandit with K=500 and U=corrective with seeds [0, 1, 2, 3, 4]\n",
      "Total Fraction Correct: Mean: 0.444, Std: 0.093\n",
      "###########################################\n",
      "Running LinUCB bandit with K=1000 and U=corrective with seeds [0, 1, 2, 3, 4]\n",
      "Total Fraction Correct: Mean: 0.491, Std: 0.089\n",
      "###########################################\n",
      "Running LinUCB bandit with K=2500 and U=corrective with seeds [0, 1, 2, 3, 4]\n",
      "Total Fraction Correct: Mean: 0.534, Std: 0.083\n",
      "###########################################\n",
      "Running LinUCB bandit with K=5000 and U=corrective with seeds [0, 1, 2, 3, 4]\n",
      "Total Fraction Correct: Mean: 0.554, Std: 0.079\n",
      "###########################################\n"
     ]
    }
   ],
   "source": [
    " !python run.py -t simulator -s 0 1 2 3 4 -u corrective -k 500 1000 2500 5000"
   ]
  },
  {
   "cell_type": "code",
   "execution_count": 8,
   "id": "6d730920-1562-415d-9137-ed2157dbc9c6",
   "metadata": {},
   "outputs": [
    {
     "name": "stdout",
     "output_type": "stream",
     "text": [
      "Running LinUCB bandit with K=500 and U=counterfactual with seeds [0, 1, 2, 3, 4]\n",
      "Total Fraction Correct: Mean: 0.705, Std: 0.035\n",
      "###########################################\n",
      "Running LinUCB bandit with K=1000 and U=counterfactual with seeds [0, 1, 2, 3, 4]\n",
      "Total Fraction Correct: Mean: 0.674, Std: 0.046\n",
      "###########################################\n",
      "Running LinUCB bandit with K=2500 and U=counterfactual with seeds [0, 1, 2, 3, 4]\n",
      "Total Fraction Correct: Mean: 0.629, Std: 0.063\n",
      "###########################################\n",
      "Running LinUCB bandit with K=5000 and U=counterfactual with seeds [0, 1, 2, 3, 4]\n",
      "Total Fraction Correct: Mean: 0.572, Std: 0.087\n",
      "###########################################\n"
     ]
    }
   ],
   "source": [
    "!python run.py -t simulator -s 0 1 2 3 4 -u counterfactual -k 500 1000 2500 5000"
   ]
  },
  {
   "cell_type": "code",
   "execution_count": 10,
   "id": "c2551e11-38d1-4026-888a-d692df64db1f",
   "metadata": {},
   "outputs": [
    {
     "name": "stdout",
     "output_type": "stream",
     "text": [
      "Running LinUCB bandit with K=500 and U=none with seeds [0, 1, 2, 3, 4]\n",
      "Total Fraction Correct: Mean: 0.569, Std: 0.077\n",
      "###########################################\n",
      "Running LinUCB bandit with K=500 and U=popular with seeds [0, 1, 2, 3, 4]\n",
      "Total Fraction Correct: Mean: 0.444, Std: 0.093\n",
      "###########################################\n",
      "Running LinUCB bandit with K=500 and U=corrective with seeds [0, 1, 2, 3, 4]\n",
      "Total Fraction Correct: Mean: 0.444, Std: 0.093\n",
      "###########################################\n",
      "Running LinUCB bandit with K=500 and U=counterfactual with seeds [0, 1, 2, 3, 4]\n",
      "Total Fraction Correct: Mean: 0.705, Std: 0.035\n",
      "###########################################\n"
     ]
    }
   ],
   "source": [
    "!python run.py -t simulator -s 0 1 2 3 4 -u none popular corrective counterfactual -k 500 --plot-u"
   ]
  },
  {
   "cell_type": "code",
   "execution_count": 12,
   "id": "abb43ab7-be91-407f-a98f-f75ffb81f93b",
   "metadata": {},
   "outputs": [
    {
     "name": "stdout",
     "output_type": "stream",
     "text": [
      "Running LinUCB bandit with K=100 and U=none with seeds [0, 1, 2, 3, 4]\n",
      "Total Fraction Correct: Mean: 0.569, Std: 0.077\n",
      "###########################################\n",
      "Running LinUCB bandit with K=100 and U=popular with seeds [0, 1, 2, 3, 4]\n",
      "Total Fraction Correct: Mean: 0.286, Std: 0.082\n",
      "###########################################\n",
      "Running LinUCB bandit with K=100 and U=corrective with seeds [0, 1, 2, 3, 4]\n",
      "Total Fraction Correct: Mean: 0.286, Std: 0.082\n",
      "###########################################\n",
      "Running LinUCB bandit with K=100 and U=counterfactual with seeds [0, 1, 2, 3, 4]\n",
      "Total Fraction Correct: Mean: 0.658, Std: 0.018\n",
      "###########################################\n",
      "Running LinUCB bandit with K=250 and U=none with seeds [0, 1, 2, 3, 4]\n",
      "Total Fraction Correct: Mean: 0.569, Std: 0.077\n",
      "###########################################\n",
      "Running LinUCB bandit with K=250 and U=popular with seeds [0, 1, 2, 3, 4]\n",
      "Total Fraction Correct: Mean: 0.387, Std: 0.093\n",
      "###########################################\n",
      "Running LinUCB bandit with K=250 and U=corrective with seeds [0, 1, 2, 3, 4]\n",
      "Total Fraction Correct: Mean: 0.387, Std: 0.093\n",
      "###########################################\n",
      "Running LinUCB bandit with K=250 and U=counterfactual with seeds [0, 1, 2, 3, 4]\n",
      "Total Fraction Correct: Mean: 0.711, Std: 0.025\n",
      "###########################################\n",
      "Running LinUCB bandit with K=500 and U=none with seeds [0, 1, 2, 3, 4]\n",
      "Total Fraction Correct: Mean: 0.569, Std: 0.077\n",
      "###########################################\n",
      "Running LinUCB bandit with K=500 and U=popular with seeds [0, 1, 2, 3, 4]\n",
      "Total Fraction Correct: Mean: 0.444, Std: 0.093\n",
      "###########################################\n",
      "Running LinUCB bandit with K=500 and U=corrective with seeds [0, 1, 2, 3, 4]\n",
      "Total Fraction Correct: Mean: 0.444, Std: 0.093\n",
      "###########################################\n",
      "Running LinUCB bandit with K=500 and U=counterfactual with seeds [0, 1, 2, 3, 4]\n",
      "Total Fraction Correct: Mean: 0.705, Std: 0.035\n",
      "###########################################\n",
      "Running LinUCB bandit with K=1000 and U=none with seeds [0, 1, 2, 3, 4]\n",
      "Total Fraction Correct: Mean: 0.569, Std: 0.077\n",
      "###########################################\n",
      "Running LinUCB bandit with K=1000 and U=popular with seeds [0, 1, 2, 3, 4]\n",
      "Total Fraction Correct: Mean: 0.491, Std: 0.089\n",
      "###########################################\n",
      "Running LinUCB bandit with K=1000 and U=corrective with seeds [0, 1, 2, 3, 4]\n",
      "Total Fraction Correct: Mean: 0.491, Std: 0.089\n",
      "###########################################\n",
      "Running LinUCB bandit with K=1000 and U=counterfactual with seeds [0, 1, 2, 3, 4]\n",
      "Total Fraction Correct: Mean: 0.674, Std: 0.046\n",
      "###########################################\n",
      "Running LinUCB bandit with K=2000 and U=none with seeds [0, 1, 2, 3, 4]\n",
      "Total Fraction Correct: Mean: 0.569, Std: 0.077\n",
      "###########################################\n",
      "Running LinUCB bandit with K=2000 and U=popular with seeds [0, 1, 2, 3, 4]\n",
      "Total Fraction Correct: Mean: 0.525, Std: 0.085\n",
      "###########################################\n",
      "Running LinUCB bandit with K=2000 and U=corrective with seeds [0, 1, 2, 3, 4]\n",
      "Total Fraction Correct: Mean: 0.525, Std: 0.085\n",
      "###########################################\n",
      "Running LinUCB bandit with K=2000 and U=counterfactual with seeds [0, 1, 2, 3, 4]\n",
      "Total Fraction Correct: Mean: 0.639, Std: 0.065\n",
      "###########################################\n",
      "Running LinUCB bandit with K=3000 and U=none with seeds [0, 1, 2, 3, 4]\n",
      "Total Fraction Correct: Mean: 0.569, Std: 0.077\n",
      "###########################################\n",
      "Running LinUCB bandit with K=3000 and U=popular with seeds [0, 1, 2, 3, 4]\n",
      "Total Fraction Correct: Mean: 0.534, Std: 0.083\n",
      "###########################################\n",
      "Running LinUCB bandit with K=3000 and U=corrective with seeds [0, 1, 2, 3, 4]\n",
      "Total Fraction Correct: Mean: 0.534, Std: 0.083\n",
      "###########################################\n",
      "Running LinUCB bandit with K=3000 and U=counterfactual with seeds [0, 1, 2, 3, 4]\n",
      "Total Fraction Correct: Mean: 0.615, Std: 0.066\n",
      "###########################################\n",
      "Running LinUCB bandit with K=4000 and U=none with seeds [0, 1, 2, 3, 4]\n",
      "Total Fraction Correct: Mean: 0.569, Std: 0.077\n",
      "###########################################\n",
      "Running LinUCB bandit with K=4000 and U=popular with seeds [0, 1, 2, 3, 4]\n",
      "Total Fraction Correct: Mean: 0.544, Std: 0.082\n",
      "###########################################\n",
      "Running LinUCB bandit with K=4000 and U=corrective with seeds [0, 1, 2, 3, 4]\n",
      "Total Fraction Correct: Mean: 0.544, Std: 0.082\n",
      "###########################################\n",
      "Running LinUCB bandit with K=4000 and U=counterfactual with seeds [0, 1, 2, 3, 4]\n",
      "Total Fraction Correct: Mean: 0.604, Std: 0.07\n",
      "###########################################\n",
      "Running LinUCB bandit with K=5000 and U=none with seeds [0, 1, 2, 3, 4]\n",
      "Total Fraction Correct: Mean: 0.569, Std: 0.077\n",
      "###########################################\n",
      "Running LinUCB bandit with K=5000 and U=popular with seeds [0, 1, 2, 3, 4]\n",
      "Total Fraction Correct: Mean: 0.554, Std: 0.079\n",
      "###########################################\n",
      "Running LinUCB bandit with K=5000 and U=corrective with seeds [0, 1, 2, 3, 4]\n",
      "Total Fraction Correct: Mean: 0.554, Std: 0.079\n",
      "###########################################\n",
      "Running LinUCB bandit with K=5000 and U=counterfactual with seeds [0, 1, 2, 3, 4]\n",
      "Total Fraction Correct: Mean: 0.572, Std: 0.087\n",
      "###########################################\n"
     ]
    }
   ],
   "source": [
    " !python run.py -t simulator -s 0 1 2 3 4 -u none popular corrective counterfactual -k 100 250 500 1000 2000 3000 4000 5000 --plot-k"
   ]
  },
  {
   "cell_type": "code",
   "execution_count": null,
   "id": "a52b5fe2-e9d7-4774-b337-4408e9b5d715",
   "metadata": {},
   "outputs": [],
   "source": []
  }
 ],
 "metadata": {
  "kernelspec": {
   "display_name": "Python 3 (ipykernel)",
   "language": "python",
   "name": "python3"
  },
  "language_info": {
   "codemirror_mode": {
    "name": "ipython",
    "version": 3
   },
   "file_extension": ".py",
   "mimetype": "text/x-python",
   "name": "python",
   "nbconvert_exporter": "python",
   "pygments_lexer": "ipython3",
   "version": "3.12.7"
  }
 },
 "nbformat": 4,
 "nbformat_minor": 5
}
